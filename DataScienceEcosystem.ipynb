{
 "cells": [
  {
   "cell_type": "markdown",
   "id": "3517611a-fea7-430c-b7bc-029d8f4f4cee",
   "metadata": {},
   "source": [
    "# Data Science Tools and Ecosystem"
   ]
  },
  {
   "cell_type": "markdown",
   "id": "55efa237-82a5-4b5b-9c3e-b7ddd9864341",
   "metadata": {},
   "source": [
    "## Autor\n",
    "Jesus Emmanuel Razo Castillo"
   ]
  },
  {
   "cell_type": "markdown",
   "id": "2ec09440-af91-4638-b57a-482510edff93",
   "metadata": {},
   "source": [
    "_Data science tools and ecosystems are going to be sumarized in this notebook_"
   ]
  },
  {
   "cell_type": "markdown",
   "id": "5f7052c1-aa1f-4c25-bf41-f1549363d09f",
   "metadata": {},
   "source": [
    "**Objectives:**\n",
    "* Show popular data science lenguages\n",
    "* Create tables in jupyter notebooks\n",
    "* Aritmetical expressions\n",
    "* Create headers\n",
    "* Upload my notebook to GitHub."
   ]
  },
  {
   "cell_type": "markdown",
   "id": "944c085b-013f-44f1-8550-f5d47b4afe76",
   "metadata": {},
   "source": [
    "Some of the lenguages used in Data Science are the followings:\n",
    "1. R\n",
    "2. Python\n",
    "3. SQL\n",
    "4. Julia"
   ]
  },
  {
   "cell_type": "markdown",
   "id": "afc89e73-2944-490b-a6ed-82a2809e5560",
   "metadata": {},
   "source": [
    "|Data Science Tools|\n",
    "|------------------|\n",
    "|RStudio|\n",
    "|Apache Spark|\n",
    "|Tensor Flow|"
   ]
  },
  {
   "cell_type": "markdown",
   "id": "659df9fd-2aea-4df0-9e79-66d1447337b6",
   "metadata": {},
   "source": [
    "### Below are a few examples of evaluating arithmetic expressions in Python"
   ]
  },
  {
   "cell_type": "markdown",
   "id": "7cb18afa-188c-4a21-a92b-5757d2af9c5f",
   "metadata": {},
   "source": [
    "This a simple arithmetic expression to mutiply then add integers"
   ]
  },
  {
   "cell_type": "code",
   "execution_count": 4,
   "id": "96ef5d42-1ba6-4a2e-9013-6bcb373eea1a",
   "metadata": {},
   "outputs": [
    {
     "data": {
      "text/plain": [
       "17"
      ]
     },
     "execution_count": 4,
     "metadata": {},
     "output_type": "execute_result"
    }
   ],
   "source": [
    "(3*4)+5"
   ]
  },
  {
   "cell_type": "markdown",
   "id": "0f1ca77f-ce65-4e31-8915-08a1523785ca",
   "metadata": {},
   "source": [
    "_This will convert 200 minutes to hours by diving by 60_"
   ]
  },
  {
   "cell_type": "code",
   "execution_count": 16,
   "id": "d92b9c4d-77d5-4497-a0a5-2cb4e645b397",
   "metadata": {},
   "outputs": [
    {
     "data": {
      "text/plain": [
       "3.3333333333333335"
      ]
     },
     "execution_count": 16,
     "metadata": {},
     "output_type": "execute_result"
    }
   ],
   "source": [
    "(200/60)"
   ]
  },
  {
   "cell_type": "code",
   "execution_count": null,
   "id": "e518857a-075f-4d6a-8812-ee5cc6499663",
   "metadata": {},
   "outputs": [],
   "source": []
  }
 ],
 "metadata": {
  "kernelspec": {
   "display_name": "Python 3 (ipykernel)",
   "language": "python",
   "name": "python3"
  },
  "language_info": {
   "codemirror_mode": {
    "name": "ipython",
    "version": 3
   },
   "file_extension": ".py",
   "mimetype": "text/x-python",
   "name": "python",
   "nbconvert_exporter": "python",
   "pygments_lexer": "ipython3",
   "version": "3.13.0"
  }
 },
 "nbformat": 4,
 "nbformat_minor": 5
}
